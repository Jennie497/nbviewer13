{
 "cells": [
  {
   "cell_type": "markdown",
   "id": "8e0caedd",
   "metadata": {},
   "source": [
    "c331033김윤진"
   ]
  },
  {
   "cell_type": "markdown",
   "id": "83193fb8",
   "metadata": {},
   "source": [
    "# 함수"
   ]
  },
  {
   "cell_type": "code",
   "execution_count": 1,
   "id": "badb3b19",
   "metadata": {},
   "outputs": [],
   "source": [
    "def calcSumProduct(a, b=10):\n",
    "\n",
    "    plus = a + b\n",
    "    multiple = a * b\n",
    "    return plus, multiple"
   ]
  },
  {
   "cell_type": "code",
   "execution_count": 2,
   "id": "658bf9b5",
   "metadata": {},
   "outputs": [
    {
     "name": "stdout",
     "output_type": "stream",
     "text": [
      "sum = 10, product = 21\n"
     ]
    }
   ],
   "source": [
    "sum, product = calcSumProduct(3,7)\n",
    "\n",
    "print(f'{sum = }, {product = }')"
   ]
  },
  {
   "cell_type": "code",
   "execution_count": 3,
   "id": "2746df61",
   "metadata": {},
   "outputs": [
    {
     "name": "stdout",
     "output_type": "stream",
     "text": [
      "sum = 13, product = 30\n"
     ]
    }
   ],
   "source": [
    "sum, product = calcSumProduct(3)\n",
    "\n",
    "print(f'{sum = }, {product = }')"
   ]
  },
  {
   "cell_type": "code",
   "execution_count": 4,
   "id": "adea3170",
   "metadata": {},
   "outputs": [
    {
     "name": "stdout",
     "output_type": "stream",
     "text": [
      "sum = 10, product = 21\n"
     ]
    }
   ],
   "source": [
    "sum, product = calcSumProduct(b=3, a=7)\n",
    "\n",
    "print(f'{sum = }, {product = }')"
   ]
  },
  {
   "cell_type": "code",
   "execution_count": 5,
   "id": "d3556dda",
   "metadata": {},
   "outputs": [],
   "source": [
    "def calcSumProduct(a: int, b: int = 10) -> int:\n",
    "    print(f'{a = }, {b = }')\n",
    "    plus = a+b\n",
    "    multiple = a*b\n",
    "    return plus, multiple"
   ]
  },
  {
   "cell_type": "code",
   "execution_count": 6,
   "id": "dbc8ce3b",
   "metadata": {},
   "outputs": [
    {
     "name": "stdout",
     "output_type": "stream",
     "text": [
      "Help on function calcSumProduct in module __main__:\n",
      "\n",
      "calcSumProduct(a: int, b: int = 10) -> int\n",
      "\n"
     ]
    }
   ],
   "source": [
    "help(calcSumProduct)"
   ]
  },
  {
   "cell_type": "code",
   "execution_count": 7,
   "id": "8f9ac571",
   "metadata": {},
   "outputs": [
    {
     "name": "stdout",
     "output_type": "stream",
     "text": [
      "inputs = (1, 2, 3)\n",
      "sum = np.int64(6), product = np.int64(6)\n",
      "\n",
      "inputs = (1, 2, 3, 4, 5, 6, 7, 8)\n",
      "sum = np.int64(36), product = np.int64(40320)\n"
     ]
    }
   ],
   "source": [
    "import numpy as np\n",
    "\n",
    "def calcSumProduct2(*inputs):\n",
    "\n",
    "    print(f'{inputs = }')\n",
    "\n",
    "    plus = np.sum(inputs)\n",
    "    multiple = np.prod(inputs)\n",
    "\n",
    "    return plus, multiple\n",
    "\n",
    "sum, product = calcSumProduct2(1,2,3)\n",
    "\n",
    "print(f'{sum = }, {product = }\\n')\n",
    "\n",
    "sum, product = calcSumProduct2(1,2,3,4,5,6,7,8)\n",
    "\n",
    "print(f'{sum = }, {product = }')\n",
    "\n"
   ]
  },
  {
   "cell_type": "code",
   "execution_count": 8,
   "id": "dfc466e0",
   "metadata": {},
   "outputs": [
    {
     "name": "stdout",
     "output_type": "stream",
     "text": [
      "inputs = {'a': 1, 'b': 2}\n",
      "sum = 3, product = 2\n",
      "\n",
      "inputs = {'a': 1, 'b': 2, 'c': 3, 'd': 4}\n",
      "sum = 10, product = 24\n"
     ]
    }
   ],
   "source": [
    "import numpy as np\n",
    "\n",
    "def calcSumProduct2(**inputs):\n",
    "\n",
    "    print(f'{inputs = }')\n",
    "\n",
    "    plus = 0\n",
    "    multiple = 1\n",
    "\n",
    "    for _, value in inputs.items():\n",
    "        plus += value\n",
    "        multiple *= value\n",
    "\n",
    "    return plus, multiple\n",
    "\n",
    "sum, product = calcSumProduct2(a=1, b=2)\n",
    "\n",
    "print(f'{sum = }, {product = }\\n')\n",
    "\n",
    "sum, product = calcSumProduct2(a=1, b=2, c=3, d=4)\n",
    "\n",
    "print(f'{sum = }, {product = }')\n"
   ]
  },
  {
   "cell_type": "code",
   "execution_count": 9,
   "id": "a23f3d0e",
   "metadata": {},
   "outputs": [
    {
     "name": "stdout",
     "output_type": "stream",
     "text": [
      "var_global = '전역 변수'\n",
      "var_local = '인자는 지역 변수'\n",
      "var_global = '전역 변수'\n",
      "name 'var_local' is not defined\n"
     ]
    }
   ],
   "source": [
    "var_global = '전역 변수'\n",
    "\n",
    "def useGlobalVariable_local(var_local):\n",
    "\n",
    "    print(f'{var_global = }') \n",
    "    print(f'{var_local = }')  \n",
    "\n",
    "useGlobalVariable_local('인자는 지역 변수')\n",
    "print(f'{var_global = }')\n",
    "\n",
    "try:\n",
    "    print(f'{var_local = }')\n",
    "except NameError as e:\n",
    "    print(e)  "
   ]
  },
  {
   "cell_type": "code",
   "execution_count": 10,
   "id": "bd4c9acd",
   "metadata": {},
   "outputs": [
    {
     "name": "stdout",
     "output_type": "stream",
     "text": [
      "var_global = '전역 변수가 아닌 지역변수임'\n",
      "var_local = '인자는 지역 변수'\n",
      "var_global = '전역 변수'\n"
     ]
    }
   ],
   "source": [
    "var_global = '전역 변수'\n",
    "\n",
    "def useGlobalVariable(var_local):\n",
    "\n",
    "    var_global = '전역 변수가 아닌 지역변수임'\n",
    "    print(f'{var_global = }')\n",
    "    print(f'{var_local = }')\n",
    "\n",
    "useGlobalVariable('인자는 지역 변수')\n",
    "\n",
    "print(f'{var_global = }')\n"
   ]
  },
  {
   "cell_type": "code",
   "execution_count": 11,
   "id": "730f6e62",
   "metadata": {},
   "outputs": [
    {
     "name": "stdout",
     "output_type": "stream",
     "text": [
      "var_global = '전역 변수가 아닌 지역변수임'\n",
      "var_local = '인자는 지역 변수'\n",
      "var_global = '전역 변수'\n"
     ]
    }
   ],
   "source": [
    "var_global = '전역 변수'\n",
    "\n",
    "def useGlobalvariable(var_local):\n",
    "\n",
    "    global var_global\n",
    "  \n",
    "    print(f'(var_global=)')\n",
    "    print(f'(var_local=]')\n",
    "\n",
    "    var_global = '이제는 전역 변수임'\n",
    "\n",
    "useGlobalVariable('인자는 지역 변수')\n",
    "\n",
    "print(f'{var_global = }')"
   ]
  },
  {
   "cell_type": "code",
   "execution_count": 12,
   "id": "da318baa",
   "metadata": {},
   "outputs": [
    {
     "data": {
      "text/plain": [
       "15"
      ]
     },
     "execution_count": 12,
     "metadata": {},
     "output_type": "execute_result"
    }
   ],
   "source": [
    "def addTen(x):\n",
    "    return x+10\n",
    "\n",
    "addTen(5)"
   ]
  },
  {
   "cell_type": "code",
   "execution_count": 13,
   "id": "d8820ab9",
   "metadata": {},
   "outputs": [
    {
     "data": {
      "text/plain": [
       "<function __main__.<lambda>(x)>"
      ]
     },
     "execution_count": 13,
     "metadata": {},
     "output_type": "execute_result"
    }
   ],
   "source": [
    "lambda x: x+10"
   ]
  },
  {
   "cell_type": "code",
   "execution_count": 14,
   "id": "1a35859c",
   "metadata": {},
   "outputs": [
    {
     "data": {
      "text/plain": [
       "15"
      ]
     },
     "execution_count": 14,
     "metadata": {},
     "output_type": "execute_result"
    }
   ],
   "source": [
    "(lambda x: x+10)(5)"
   ]
  },
  {
   "cell_type": "code",
   "execution_count": 15,
   "id": "3c97a0e8",
   "metadata": {},
   "outputs": [
    {
     "data": {
      "text/plain": [
       "15"
      ]
     },
     "execution_count": 15,
     "metadata": {},
     "output_type": "execute_result"
    }
   ],
   "source": [
    "addTen = lambda x: x + 10\n",
    "\n",
    "addTen(5)"
   ]
  },
  {
   "cell_type": "code",
   "execution_count": 16,
   "id": "679e4fdf",
   "metadata": {},
   "outputs": [
    {
     "data": {
      "text/plain": [
       "115"
      ]
     },
     "execution_count": 16,
     "metadata": {},
     "output_type": "execute_result"
    }
   ],
   "source": [
    "y = 100\n",
    "\n",
    "(lambda x: x+y+10)(5)"
   ]
  },
  {
   "cell_type": "code",
   "execution_count": 17,
   "id": "0eb3b8e5",
   "metadata": {},
   "outputs": [
    {
     "data": {
      "text/plain": [
       "'(3의 배수) 9'"
      ]
     },
     "execution_count": 17,
     "metadata": {},
     "output_type": "execute_result"
    }
   ],
   "source": [
    "(lambda x: '(3의 배수) '+str(x) if x%3==0 else x)(9)\n"
   ]
  },
  {
   "cell_type": "code",
   "execution_count": 18,
   "id": "05383c6c",
   "metadata": {},
   "outputs": [
    {
     "data": {
      "text/plain": [
       "8"
      ]
     },
     "execution_count": 18,
     "metadata": {},
     "output_type": "execute_result"
    }
   ],
   "source": [
    "(lambda x: '(3의 배수) '+str(x) if x%3==0 else x)(8)"
   ]
  },
  {
   "cell_type": "code",
   "execution_count": 19,
   "id": "164f2385",
   "metadata": {},
   "outputs": [
    {
     "data": {
      "text/plain": [
       "'(3의 배수) 9'"
      ]
     },
     "execution_count": 19,
     "metadata": {},
     "output_type": "execute_result"
    }
   ],
   "source": [
    "(lambda x: '(3의 배수) '+str(x) if x%3==0 else float(x) if x%3==1 else x)(9)"
   ]
  },
  {
   "cell_type": "code",
   "execution_count": 20,
   "id": "2f58923a",
   "metadata": {},
   "outputs": [
    {
     "data": {
      "text/plain": [
       "7.0"
      ]
     },
     "execution_count": 20,
     "metadata": {},
     "output_type": "execute_result"
    }
   ],
   "source": [
    "(lambda x: '(3의 배수) '+str(x) if x%3==0 else float(x) if x%3==1 else x)(7)"
   ]
  },
  {
   "cell_type": "code",
   "execution_count": 21,
   "id": "7d4c501c",
   "metadata": {},
   "outputs": [
    {
     "data": {
      "text/plain": [
       "5"
      ]
     },
     "execution_count": 21,
     "metadata": {},
     "output_type": "execute_result"
    }
   ],
   "source": [
    "(lambda x: '(3의 배수) '+str(x) if x%3==0 else float(x) if x%3==1 else x)(5)"
   ]
  },
  {
   "cell_type": "code",
   "execution_count": 22,
   "id": "20ce5241",
   "metadata": {},
   "outputs": [
    {
     "data": {
      "text/plain": [
       "3"
      ]
     },
     "execution_count": 22,
     "metadata": {},
     "output_type": "execute_result"
    }
   ],
   "source": [
    "(lambda x,y: x if x%3==0 else x+y)(3,4)"
   ]
  },
  {
   "cell_type": "code",
   "execution_count": 23,
   "id": "bb2108a1",
   "metadata": {},
   "outputs": [
    {
     "data": {
      "text/plain": [
       "6"
      ]
     },
     "execution_count": 23,
     "metadata": {},
     "output_type": "execute_result"
    }
   ],
   "source": [
    "(lambda x,y: x if x%3==0 else x+y)(2,4)"
   ]
  },
  {
   "cell_type": "code",
   "execution_count": 24,
   "id": "e4fad386",
   "metadata": {},
   "outputs": [
    {
     "data": {
      "text/plain": [
       "[11, 12, 13]"
      ]
     },
     "execution_count": 24,
     "metadata": {},
     "output_type": "execute_result"
    }
   ],
   "source": [
    "list(map(lambda x: x+10, [1,2,3]))"
   ]
  },
  {
   "cell_type": "code",
   "execution_count": 25,
   "id": "5e5e4eaf",
   "metadata": {},
   "outputs": [
    {
     "data": {
      "text/plain": [
       "['(3의 배수) 0', 1.0, 2, '(3의 배수) 3', 4.0, 5, '(3의 배수) 6', 7.0, 8, '(3의 배수) 9']"
      ]
     },
     "execution_count": 25,
     "metadata": {},
     "output_type": "execute_result"
    }
   ],
   "source": [
    "ldMultiple3 = lambda x: '(3의 배수) '+str(x) if x%3==0 else x\n",
    "list(map(ldMultiple3, range(10)))\n",
    "\n",
    "ldMultiple3f = lambda x: '(3의 배수) '+str(x) if x%3==0 else float(x) if x%3==1 else x\n",
    "list(map(ldMultiple3f, range(10)))"
   ]
  },
  {
   "cell_type": "code",
   "execution_count": 26,
   "id": "8535d4e9",
   "metadata": {},
   "outputs": [
    {
     "data": {
      "text/plain": [
       "[0, 101, 102, 3, 104, 105, 6, 107, 108, 9]"
      ]
     },
     "execution_count": 26,
     "metadata": {},
     "output_type": "execute_result"
    }
   ],
   "source": [
    "ldMultiple3a = lambda x, y: x if x%3==0 else x+y\n",
    "list(map(ldMultiple3a, range(10), [100]*10))"
   ]
  },
  {
   "cell_type": "markdown",
   "id": "fa1bf0b0",
   "metadata": {},
   "source": [
    "# 추가학습내용"
   ]
  },
  {
   "cell_type": "code",
   "execution_count": 27,
   "id": "329a49a5",
   "metadata": {},
   "outputs": [
    {
     "data": {
      "text/plain": [
       "(8, 15)"
      ]
     },
     "execution_count": 27,
     "metadata": {},
     "output_type": "execute_result"
    }
   ],
   "source": [
    "def calcSumProduct(a=10, b=10):\n",
    "\n",
    "    plus = a + b\n",
    "    multiple = a * b\n",
    "    return plus, multiple\n",
    "\n",
    "calcSumProduct(3, 5)"
   ]
  },
  {
   "cell_type": "markdown",
   "id": "dcf5a9c8",
   "metadata": {},
   "source": [
    "3, 5를 더한 값과 곱한 값을 반환"
   ]
  },
  {
   "cell_type": "code",
   "execution_count": 28,
   "id": "ae6cc5f0",
   "metadata": {},
   "outputs": [
    {
     "data": {
      "text/plain": [
       "(2, -15)"
      ]
     },
     "execution_count": 28,
     "metadata": {},
     "output_type": "execute_result"
    }
   ],
   "source": [
    "def calcSumProduct(a=10, b=10):\n",
    "\n",
    "    plus = -a + b\n",
    "    multiple = -a * b\n",
    "    return plus, multiple\n",
    "\n",
    "calcSumProduct(3, 5)"
   ]
  },
  {
   "cell_type": "markdown",
   "id": "4cebe107",
   "metadata": {},
   "source": [
    "숫자 두개가 나올 경우 튜플로 출력"
   ]
  },
  {
   "cell_type": "code",
   "execution_count": 29,
   "id": "616bd900",
   "metadata": {},
   "outputs": [
    {
     "data": {
      "text/plain": [
       "(0, -100)"
      ]
     },
     "execution_count": 29,
     "metadata": {},
     "output_type": "execute_result"
    }
   ],
   "source": [
    "calcSumProduct()"
   ]
  },
  {
   "cell_type": "markdown",
   "id": "50f8ca3f",
   "metadata": {},
   "source": [
    "함수 호출"
   ]
  },
  {
   "cell_type": "code",
   "execution_count": 30,
   "id": "58febf69",
   "metadata": {},
   "outputs": [
    {
     "data": {
      "text/plain": [
       "function"
      ]
     },
     "execution_count": 30,
     "metadata": {},
     "output_type": "execute_result"
    }
   ],
   "source": [
    "type(calcSumProduct)"
   ]
  },
  {
   "cell_type": "markdown",
   "id": "a6eab602",
   "metadata": {},
   "source": [
    "calcSumProduct의 자료형을 확인하는 코드"
   ]
  },
  {
   "cell_type": "code",
   "execution_count": 31,
   "id": "8ffc0be4",
   "metadata": {},
   "outputs": [
    {
     "data": {
      "text/plain": [
       "8"
      ]
     },
     "execution_count": 31,
     "metadata": {},
     "output_type": "execute_result"
    }
   ],
   "source": [
    "\n",
    "def calcSumProduct(a, b):\n",
    "\n",
    "    plus = a + b\n",
    "    multiple = a * b\n",
    "    return plus\n",
    "\n",
    "calcSumProduct(3, 5)"
   ]
  },
  {
   "cell_type": "markdown",
   "id": "9e4d54e8",
   "metadata": {},
   "source": [
    "숫자 하나가 나올 경우엔 그냥 출력됨."
   ]
  },
  {
   "cell_type": "code",
   "execution_count": 32,
   "id": "2feb74b0",
   "metadata": {},
   "outputs": [],
   "source": [
    "def calcSumProduct(a, b):\n",
    "\n",
    "    plus = a + b\n",
    "    multiple = a * b\n",
    "    return\n",
    "\n",
    "calcSumProduct(3, 5)"
   ]
  },
  {
   "cell_type": "markdown",
   "id": "77aea1a7",
   "metadata": {},
   "source": [
    "3, 5를 더하고 곱하지만 결과를 반환하지 않음"
   ]
  },
  {
   "cell_type": "code",
   "execution_count": 33,
   "id": "93f87af9",
   "metadata": {},
   "outputs": [
    {
     "name": "stdout",
     "output_type": "stream",
     "text": [
      "(8, 15)\n"
     ]
    }
   ],
   "source": [
    "def calcSumProduct(a, b=10):\n",
    "\n",
    "    plus = a + b\n",
    "    multiple = a * b\n",
    "    return plus, multiple\n",
    "\n",
    "var = calcSumProduct(a=3, b=5)\n",
    "print(var)"
   ]
  },
  {
   "cell_type": "markdown",
   "id": "d2df93dd",
   "metadata": {},
   "source": [
    "3과 5의 합과 곱을 계산"
   ]
  },
  {
   "cell_type": "code",
   "execution_count": 34,
   "id": "78bda0bc",
   "metadata": {},
   "outputs": [
    {
     "name": "stdout",
     "output_type": "stream",
     "text": [
      "(8, 15)\n"
     ]
    }
   ],
   "source": [
    "def calcSumProduct(a, b=10):\n",
    "\n",
    "    plus = a + b\n",
    "    multiple = a * b\n",
    "    return plus, multiple\n",
    "\n",
    "var = calcSumProduct(a=3, b=5)\n",
    "print(var)"
   ]
  },
  {
   "cell_type": "markdown",
   "id": "503b6ce8",
   "metadata": {},
   "source": [
    "a=3, b=5의 합과 곱 계산"
   ]
  },
  {
   "cell_type": "code",
   "execution_count": 35,
   "id": "e20702d4",
   "metadata": {},
   "outputs": [
    {
     "name": "stdout",
     "output_type": "stream",
     "text": [
      "8 15\n"
     ]
    }
   ],
   "source": [
    "def calcSumProduct(a, b=10):\n",
    "\n",
    "    plus = a + b\n",
    "    multiple = a * b\n",
    "    return plus, multiple\n",
    "\n",
    "sum, product = calcSumProduct(a=3, b=5)\n",
    "print(sum, product)"
   ]
  },
  {
   "cell_type": "markdown",
   "id": "b8706357",
   "metadata": {},
   "source": [
    "a=3, b=5의 합과 곱을 각각 sum, product에 저장하고 8 15를 출력"
   ]
  },
  {
   "cell_type": "code",
   "execution_count": 36,
   "id": "72babb9b",
   "metadata": {},
   "outputs": [],
   "source": [
    "def calcSumProduct(a, b):\n",
    "\n",
    "    plus = a + b\n",
    "    multiple = a * b\n",
    "    return\n",
    "\n",
    "calcSumProduct(3, 5)\n",
    "a = calcSumProduct"
   ]
  },
  {
   "cell_type": "markdown",
   "id": "b1694706",
   "metadata": {},
   "source": [
    "함수를 변수 a에 저장"
   ]
  },
  {
   "cell_type": "code",
   "execution_count": 37,
   "id": "d9747d7d",
   "metadata": {},
   "outputs": [
    {
     "name": "stdout",
     "output_type": "stream",
     "text": [
      "<function calcSumProduct at 0x000001E2831F6160>\n"
     ]
    }
   ],
   "source": [
    "print(a)"
   ]
  },
  {
   "cell_type": "markdown",
   "id": "661a12c8",
   "metadata": {},
   "source": [
    "함수 객체 정보가 출력"
   ]
  },
  {
   "cell_type": "code",
   "execution_count": 38,
   "id": "d0492d8b",
   "metadata": {},
   "outputs": [
    {
     "data": {
      "text/plain": [
       "(8.0, 15.0)"
      ]
     },
     "execution_count": 38,
     "metadata": {},
     "output_type": "execute_result"
    }
   ],
   "source": [
    "def calcSumProduct(a, b):\n",
    "\n",
    "    plus = a + b\n",
    "    multiple = a * b\n",
    "    return plus, multiple\n",
    "\n",
    "calcSumProduct(3.0, 5)"
   ]
  },
  {
   "cell_type": "markdown",
   "id": "1ee93b3c",
   "metadata": {},
   "source": [
    "3.0과 5를 더하고 곱한 결과 반환"
   ]
  },
  {
   "cell_type": "markdown",
   "id": "224eefa1",
   "metadata": {},
   "source": [
    "def calcSumProduct(a, b=10):\n",
    "\n",
    "    plus = a + b\n",
    "    multiple = a * b\n",
    "    return plus, multiple\n",
    "\n",
    "calcSumProduct('a', 5)에러, 문자열 'a'와 숫자 5를 더하려해서 에러 발생"
   ]
  },
  {
   "cell_type": "code",
   "execution_count": 39,
   "id": "e9fd2688",
   "metadata": {},
   "outputs": [
    {
     "data": {
      "text/plain": [
       "(15, 50)"
      ]
     },
     "execution_count": 39,
     "metadata": {},
     "output_type": "execute_result"
    }
   ],
   "source": [
    "def calcSumProduct(a, b=10):\n",
    "\n",
    "    plus = a + b\n",
    "    multiple = a * b\n",
    "    return plus, multiple\n",
    "\n",
    "calcSumProduct(5)"
   ]
  },
  {
   "cell_type": "markdown",
   "id": "c0480b2b",
   "metadata": {},
   "source": [
    "a=5와 기본값 b=10을 사용해 합과 곱 반환"
   ]
  },
  {
   "cell_type": "code",
   "execution_count": 40,
   "id": "2637b9dc",
   "metadata": {},
   "outputs": [
    {
     "data": {
      "text/plain": [
       "(8, 15)"
      ]
     },
     "execution_count": 40,
     "metadata": {},
     "output_type": "execute_result"
    }
   ],
   "source": [
    "def calcSumProduct(a, b):\n",
    "\n",
    "    plus = a + b\n",
    "    multiple = a * b\n",
    "    return plus, multiple\n",
    "\n",
    "calcSumProduct(3,5)"
   ]
  },
  {
   "cell_type": "markdown",
   "id": "dd34fae5",
   "metadata": {},
   "source": [
    "3과 5의 합과 곱 반환"
   ]
  },
  {
   "cell_type": "code",
   "execution_count": 41,
   "id": "b67728a8",
   "metadata": {},
   "outputs": [
    {
     "data": {
      "text/plain": [
       "15"
      ]
     },
     "execution_count": 41,
     "metadata": {},
     "output_type": "execute_result"
    }
   ],
   "source": [
    "def calcSumProduct(a, b):\n",
    "    if a > b:\n",
    "       return a+b\n",
    "    elif a < b:\n",
    "       return a*b\n",
    "    else:\n",
    "       return a+b, a*b\n",
    "       \n",
    "\n",
    "calcSumProduct(3,5)"
   ]
  },
  {
   "cell_type": "markdown",
   "id": "707d1118",
   "metadata": {},
   "source": [
    "a < b면 둘의 곱을 반환, a > b면 둘의 합을 반환, 같으면 합과 곱을 튜플로 출력\n",
    "3 < 5라서 15가 반환"
   ]
  },
  {
   "cell_type": "code",
   "execution_count": 42,
   "id": "71bb252f",
   "metadata": {},
   "outputs": [
    {
     "data": {
      "text/plain": [
       "18"
      ]
     },
     "execution_count": 42,
     "metadata": {},
     "output_type": "execute_result"
    }
   ],
   "source": [
    "calcSumProduct(13,5)"
   ]
  },
  {
   "cell_type": "markdown",
   "id": "686e11f7",
   "metadata": {},
   "source": [
    "13 > 5이므로 두 수의 합 18을 반환"
   ]
  },
  {
   "cell_type": "code",
   "execution_count": 43,
   "id": "86d5009f",
   "metadata": {},
   "outputs": [
    {
     "data": {
      "text/plain": [
       "(26, 169)"
      ]
     },
     "execution_count": 43,
     "metadata": {},
     "output_type": "execute_result"
    }
   ],
   "source": [
    "calcSumProduct(13,13)"
   ]
  },
  {
   "cell_type": "markdown",
   "id": "4ac3f2d6",
   "metadata": {},
   "source": [
    "a와 b가 같으니 합과 곱 (26, 169)을 튜플로 반환"
   ]
  },
  {
   "cell_type": "code",
   "execution_count": 44,
   "id": "d301373d",
   "metadata": {},
   "outputs": [
    {
     "data": {
      "text/plain": [
       "'1313'"
      ]
     },
     "execution_count": 44,
     "metadata": {},
     "output_type": "execute_result"
    }
   ],
   "source": [
    "def calcSumProduct(a, b):\n",
    "    if a > b:\n",
    "       return a+b\n",
    "    elif a < b:\n",
    "       return a*b\n",
    "    else:\n",
    "       return a+b\n",
    "    \n",
    "calcSumProduct(\"13\",\"13\")"
   ]
  },
  {
   "cell_type": "markdown",
   "id": "e4227725",
   "metadata": {},
   "source": [
    "두 문자열을 더한 \"1313\"을 반환"
   ]
  },
  {
   "cell_type": "code",
   "execution_count": 45,
   "id": "befd4752",
   "metadata": {},
   "outputs": [],
   "source": [
    "def calcSumProduct(a, b):\n",
    "    if a > b:\n",
    "       return a+b\n",
    "    elif a < b:\n",
    "       return a*b\n",
    "    else:\n",
    "       return a+b, a*b\n",
    "       \n",
    "    print('나는 절대 실행이 안됩니다.')"
   ]
  },
  {
   "cell_type": "markdown",
   "id": "cd630db7",
   "metadata": {},
   "source": [
    "return 뒤에 쓰면 출력되지 않음."
   ]
  },
  {
   "cell_type": "code",
   "execution_count": 46,
   "id": "f9192981",
   "metadata": {},
   "outputs": [
    {
     "data": {
      "text/plain": [
       "np.int64(324534600)"
      ]
     },
     "execution_count": 46,
     "metadata": {},
     "output_type": "execute_result"
    }
   ],
   "source": [
    "import numpy as np \n",
    "np.prod([10,2,3,234,67,345])"
   ]
  },
  {
   "cell_type": "markdown",
   "id": "65af1c6c",
   "metadata": {},
   "source": [
    "[10, 2, 3, 234, 67, 345]에 있는 숫자들을 모두 곱한 결과를 반환"
   ]
  },
  {
   "cell_type": "code",
   "execution_count": 47,
   "id": "c735d8cb",
   "metadata": {},
   "outputs": [
    {
     "data": {
      "text/plain": [
       "np.int64(6)"
      ]
     },
     "execution_count": 47,
     "metadata": {},
     "output_type": "execute_result"
    }
   ],
   "source": [
    "import numpy\n",
    "numpy.sum ([1,2,3])"
   ]
  },
  {
   "cell_type": "markdown",
   "id": "8121de0e",
   "metadata": {},
   "source": [
    "[1, 2, 3]의 모든 원소를 더한 합 반환"
   ]
  },
  {
   "cell_type": "code",
   "execution_count": 48,
   "id": "88e71818",
   "metadata": {},
   "outputs": [
    {
     "data": {
      "text/plain": [
       "np.int64(6)"
      ]
     },
     "execution_count": 48,
     "metadata": {},
     "output_type": "execute_result"
    }
   ],
   "source": [
    "import numpy\n",
    "numpy.prod ([1,2,3])"
   ]
  },
  {
   "cell_type": "markdown",
   "id": "47b71bb0",
   "metadata": {},
   "source": [
    "[1, 2, 3]의 모든 원소를 곱한 결과 반환"
   ]
  },
  {
   "cell_type": "code",
   "execution_count": 49,
   "id": "a9e8c98e",
   "metadata": {},
   "outputs": [
    {
     "data": {
      "text/plain": [
       "np.int64(60)"
      ]
     },
     "execution_count": 49,
     "metadata": {},
     "output_type": "execute_result"
    }
   ],
   "source": [
    "import numpy as np\n",
    "np.prod ([10,2,3])"
   ]
  },
  {
   "cell_type": "markdown",
   "id": "3447f9cc",
   "metadata": {},
   "source": [
    "[10, 2, 3]의 모든 숫자를 곱해 60을 반환"
   ]
  },
  {
   "cell_type": "code",
   "execution_count": 50,
   "id": "7794580f",
   "metadata": {},
   "outputs": [
    {
     "data": {
      "text/plain": [
       "np.int64(324534600)"
      ]
     },
     "execution_count": 50,
     "metadata": {},
     "output_type": "execute_result"
    }
   ],
   "source": [
    "import numpy as np\n",
    "np.prod ([10,2,3,234,67,345])"
   ]
  },
  {
   "cell_type": "markdown",
   "id": "a80f6f4b",
   "metadata": {},
   "source": [
    "[10, 2, 3, 234, 67, 345]의 모든 원소를 곱한 값 32432400을 반환"
   ]
  },
  {
   "cell_type": "code",
   "execution_count": 51,
   "id": "728af54e",
   "metadata": {},
   "outputs": [
    {
     "name": "stdout",
     "output_type": "stream",
     "text": [
      "inputs = (1, 2, 3)\n"
     ]
    },
    {
     "data": {
      "text/plain": [
       "(np.int64(6), np.int64(6))"
      ]
     },
     "execution_count": 51,
     "metadata": {},
     "output_type": "execute_result"
    }
   ],
   "source": [
    "import numpy as np\n",
    "\n",
    "def calcSumProduct2(*inputs):\n",
    "\n",
    "    print(f'{inputs = }')\n",
    "\n",
    "    plus = np.sum(inputs)\n",
    "    multiple = np.prod(inputs)\n",
    "\n",
    "    return plus, multiple\n",
    "\n",
    "calcSumProduct2(1,2,3)"
   ]
  },
  {
   "cell_type": "markdown",
   "id": "18d37d76",
   "metadata": {},
   "source": [
    "(1, 2, 3)로 합(6)과 곱(6)을 계산해 반환\n",
    "함수 호출하면 입력값 inputs = (1, 2, 3)을 출력"
   ]
  },
  {
   "cell_type": "code",
   "execution_count": 52,
   "id": "420ee507",
   "metadata": {},
   "outputs": [
    {
     "name": "stdout",
     "output_type": "stream",
     "text": [
      "inputs = (10, 2, 3, 5, 4, 5, 6, 7, 8, 9)\n"
     ]
    },
    {
     "data": {
      "text/plain": [
       "(np.int64(59), np.int64(18144000))"
      ]
     },
     "execution_count": 52,
     "metadata": {},
     "output_type": "execute_result"
    }
   ],
   "source": [
    "import numpy as np\n",
    "\n",
    "def calcSumProduct2(*inputs):\n",
    "\n",
    "    print(f'{inputs = }')\n",
    "\n",
    "    plus = np.sum(inputs)\n",
    "    multiple = np.prod(inputs)\n",
    "\n",
    "    return plus, multiple\n",
    "\n",
    "calcSumProduct2(10,2,3,5,4,5,6,7,8,9)"
   ]
  },
  {
   "cell_type": "markdown",
   "id": "e3f474a9",
   "metadata": {},
   "source": [
    "(10, 2, 3, 5, 4, 5, 6, 7, 8, 9)를 받아 합과 곱을 계산해 반환"
   ]
  },
  {
   "cell_type": "markdown",
   "id": "b5e7a70b",
   "metadata": {},
   "source": [
    "import numpy as np\n",
    "\n",
    "def calcSumProduct2(*inputs):\n",
    "\n",
    "    print(f'{inputs = }')\n",
    "\n",
    "    plus = np.sum(inputs)\n",
    "    multiple = np.prod(inputs)\n",
    "\n",
    "    return plus, multiple\n",
    "\n",
    "calcSumProduct2(10,2,'3',5,4,5,6,7,8,9)는 에러, '3'이 섞여 있어 np.sum과 np.prod가 숫자 계산 중 타입 오류가 남"
   ]
  },
  {
   "cell_type": "code",
   "execution_count": 53,
   "id": "3845b999",
   "metadata": {},
   "outputs": [],
   "source": [
    "def multiple1(x):\n",
    "    if x%3==0:\n",
    "        value='(3의 배수) '+str(x)\n",
    "    else:\n",
    "        if x%3 == 1:\n",
    "            value=float(x)\n",
    "        else:\n",
    "            value = x\n",
    "    return value"
   ]
  },
  {
   "cell_type": "markdown",
   "id": "de744b55",
   "metadata": {},
   "source": [
    "(lambda x: '(3의 배수) '+str(x) if x%3==0 else float(x) if x%3==1 else x)(5)를 함수로 나타냄, x가 3의 배수면 '(3의 배수) x'를, 나머지가 1이면 x를 실수형으로, 그 외는 그대로 반환"
   ]
  },
  {
   "cell_type": "code",
   "execution_count": 54,
   "id": "f2ede84f",
   "metadata": {},
   "outputs": [
    {
     "data": {
      "text/plain": [
       "8"
      ]
     },
     "execution_count": 54,
     "metadata": {},
     "output_type": "execute_result"
    }
   ],
   "source": [
    "multiple1(8)"
   ]
  },
  {
   "cell_type": "markdown",
   "id": "6c7daab0",
   "metadata": {},
   "source": [
    "8은 3으로 나눈 나머지가 2이므로 조건에 맞지 않아 그대로 8을 반환"
   ]
  },
  {
   "cell_type": "code",
   "execution_count": 55,
   "id": "5e5ae31d",
   "metadata": {},
   "outputs": [
    {
     "data": {
      "text/plain": [
       "'(3의 배수) 813'"
      ]
     },
     "execution_count": 55,
     "metadata": {},
     "output_type": "execute_result"
    }
   ],
   "source": [
    "multiple1(813)"
   ]
  },
  {
   "cell_type": "markdown",
   "id": "e9a17bb4",
   "metadata": {},
   "source": [
    "813은 3의 배수이므로 '(3의 배수) 813'를 반환"
   ]
  },
  {
   "cell_type": "code",
   "execution_count": 56,
   "id": "0e17117d",
   "metadata": {},
   "outputs": [],
   "source": [
    "def multiple2(x):\n",
    "    if x%3==0:\n",
    "        value='(3의 배수) '+str(x)\n",
    "    elif x%3 == 1:\n",
    "            value=float(x)\n",
    "    else:\n",
    "        value = x\n",
    "    return value"
   ]
  },
  {
   "cell_type": "markdown",
   "id": "5aaf1bce",
   "metadata": {},
   "source": [
    "def multiple1(x):\n",
    "    if x%3==0:\n",
    "        value='(3의 배수) '+str(x)\n",
    "    else:\n",
    "        if x%3 == 1:\n",
    "            value=float(x)\n",
    "        else:\n",
    "            value = x\n",
    "    return value를 더 간단히 나타냄, x가 3으로 나누어 떨어지면 문자열 \"(3의 배수) x\"를, 나머지가 1이면 x를 실수형으로, 그 외에는 그대로 반환하는 함수"
   ]
  },
  {
   "cell_type": "code",
   "execution_count": 57,
   "id": "6ced01cd",
   "metadata": {},
   "outputs": [
    {
     "data": {
      "text/plain": [
       "'(3의 배수) 81'"
      ]
     },
     "execution_count": 57,
     "metadata": {},
     "output_type": "execute_result"
    }
   ],
   "source": [
    "multiple2(81)"
   ]
  },
  {
   "cell_type": "markdown",
   "id": "919d9357",
   "metadata": {},
   "source": [
    "81은 3의 배수이므로 '(3의 배수) 81'을 반환"
   ]
  },
  {
   "cell_type": "code",
   "execution_count": 58,
   "id": "45a3ea04",
   "metadata": {},
   "outputs": [],
   "source": [
    "def multiple3(x,y):\n",
    "    if x%3==0:\n",
    "        value=x\n",
    "    else:\n",
    "        value=x+y\n",
    "    return value"
   ]
  },
  {
   "cell_type": "markdown",
   "id": "fee97483",
   "metadata": {},
   "source": [
    "return value가 없어도 오류가 나진 않음 단지 값이 나오진 않을뿐임, return은 indent 안하면 에러남. 그러나 multiple3(3,4)는 에러안남, def multiple3(x,y)부터 value=x+y까지는 정상적으로 입력되었기 때문임."
   ]
  },
  {
   "cell_type": "code",
   "execution_count": 59,
   "id": "34e3d130",
   "metadata": {},
   "outputs": [
    {
     "data": {
      "text/plain": [
       "3"
      ]
     },
     "execution_count": 59,
     "metadata": {},
     "output_type": "execute_result"
    }
   ],
   "source": [
    "multiple3(3,4)"
   ]
  },
  {
   "cell_type": "markdown",
   "id": "89aa5b26",
   "metadata": {},
   "source": [
    "3은 3의 배수라서 3을 반환"
   ]
  },
  {
   "cell_type": "code",
   "execution_count": 60,
   "id": "edc365d5",
   "metadata": {},
   "outputs": [
    {
     "data": {
      "text/plain": [
       "35"
      ]
     },
     "execution_count": 60,
     "metadata": {},
     "output_type": "execute_result"
    }
   ],
   "source": [
    "multiple3(31,4)"
   ]
  },
  {
   "cell_type": "markdown",
   "id": "9756e416",
   "metadata": {},
   "source": [
    "31은 3의 배수가 아니므로 31 + 4 = 35를 반환"
   ]
  },
  {
   "cell_type": "code",
   "execution_count": 61,
   "id": "1cf16c64",
   "metadata": {},
   "outputs": [
    {
     "data": {
      "text/plain": [
       "<zip at 0x1e283223640>"
      ]
     },
     "execution_count": 61,
     "metadata": {},
     "output_type": "execute_result"
    }
   ],
   "source": [
    "zip([1,2,3],[4,5,6])"
   ]
  },
  {
   "cell_type": "markdown",
   "id": "3c1fe328",
   "metadata": {},
   "source": [
    "zip객체가 나옴, 값은 없음 형변환해야함."
   ]
  },
  {
   "cell_type": "code",
   "execution_count": 62,
   "id": "45cccefe",
   "metadata": {},
   "outputs": [
    {
     "data": {
      "text/plain": [
       "[(1, 4), (2, 5), (3, 6)]"
      ]
     },
     "execution_count": 62,
     "metadata": {},
     "output_type": "execute_result"
    }
   ],
   "source": [
    "list(zip([1,2,3],[4,5,6]))"
   ]
  },
  {
   "cell_type": "markdown",
   "id": "40c9b03a",
   "metadata": {},
   "source": [
    "[1, 2, 3]과 [4, 5, 6]의 각 원소를 쌍으로 묶어 리스트로 출력"
   ]
  },
  {
   "cell_type": "code",
   "execution_count": 63,
   "id": "a696456f",
   "metadata": {},
   "outputs": [
    {
     "data": {
      "text/plain": [
       "<map at 0x1e282ef36a0>"
      ]
     },
     "execution_count": 63,
     "metadata": {},
     "output_type": "execute_result"
    }
   ],
   "source": [
    "map(lambda x: x+10, [1,2,3])"
   ]
  },
  {
   "cell_type": "markdown",
   "id": "af2c7c38",
   "metadata": {},
   "source": [
    "list(map(lambda x: x+10, [1,2,3]))를 형변환하기 전임"
   ]
  },
  {
   "cell_type": "code",
   "execution_count": 64,
   "id": "38127851",
   "metadata": {},
   "outputs": [
    {
     "data": {
      "text/plain": [
       "[100, 100, 100, 100, 100, 100, 100, 100, 100, 100]"
      ]
     },
     "execution_count": 64,
     "metadata": {},
     "output_type": "execute_result"
    }
   ],
   "source": [
    "[100]*10"
   ]
  },
  {
   "cell_type": "markdown",
   "id": "b3f54bb7",
   "metadata": {},
   "source": [
    "숫자 100을 10번 반복한 리스트 반환"
   ]
  },
  {
   "cell_type": "code",
   "execution_count": 65,
   "id": "de1bc1bb",
   "metadata": {},
   "outputs": [
    {
     "data": {
      "text/plain": [
       "1000"
      ]
     },
     "execution_count": 65,
     "metadata": {},
     "output_type": "execute_result"
    }
   ],
   "source": [
    "100*10"
   ]
  },
  {
   "cell_type": "markdown",
   "id": "0d738d1f",
   "metadata": {},
   "source": [
    "숫자 100과 10을 곱해서 1000을 반환"
   ]
  },
  {
   "cell_type": "code",
   "execution_count": 66,
   "id": "0055d50e",
   "metadata": {},
   "outputs": [
    {
     "data": {
      "text/plain": [
       "1000"
      ]
     },
     "execution_count": 66,
     "metadata": {},
     "output_type": "execute_result"
    }
   ],
   "source": [
    "(100)*10"
   ]
  },
  {
   "cell_type": "markdown",
   "id": "e9182f4e",
   "metadata": {},
   "source": [
    "100에 10을 곱함\n",
    "괄호 안에 ,이 없으므로 튜플 아님"
   ]
  },
  {
   "cell_type": "code",
   "execution_count": 67,
   "id": "3db14a8e",
   "metadata": {},
   "outputs": [
    {
     "data": {
      "text/plain": [
       "(100, 100, 100, 100, 100, 100, 100, 100, 100, 100)"
      ]
     },
     "execution_count": 67,
     "metadata": {},
     "output_type": "execute_result"
    }
   ],
   "source": [
    "(100,)*10"
   ]
  },
  {
   "cell_type": "markdown",
   "id": "ce2608f9",
   "metadata": {},
   "source": [
    "튜플 (100,)을 10번 반복함"
   ]
  }
 ],
 "metadata": {
  "kernelspec": {
   "display_name": "base",
   "language": "python",
   "name": "python3"
  },
  "language_info": {
   "codemirror_mode": {
    "name": "ipython",
    "version": 3
   },
   "file_extension": ".py",
   "mimetype": "text/x-python",
   "name": "python",
   "nbconvert_exporter": "python",
   "pygments_lexer": "ipython3",
   "version": "3.12.9"
  }
 },
 "nbformat": 4,
 "nbformat_minor": 5
}
